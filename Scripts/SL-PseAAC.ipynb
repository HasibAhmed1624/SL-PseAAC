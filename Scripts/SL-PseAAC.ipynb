{
 "cells": [
  {
   "cell_type": "markdown",
   "metadata": {},
   "source": [
    "# Import"
   ]
  },
  {
   "cell_type": "code",
   "execution_count": 1,
   "metadata": {},
   "outputs": [],
   "source": [
    "import _pickle\n",
    "import numpy as np\n",
    "import pandas as pd\n",
    "from mlxtend.evaluate import bias_variance_decomp\n",
    "from sklearn.discriminant_analysis import LinearDiscriminantAnalysis\n",
    "from sklearn.ensemble import (AdaBoostClassifier, BaggingClassifier,\n",
    "                              ExtraTreesClassifier, RandomForestClassifier,\n",
    "                              StackingClassifier, VotingClassifier)\n",
    "from sklearn.linear_model import LogisticRegression\n",
    "from sklearn.metrics import (SCORERS, accuracy_score, average_precision_score,\n",
    "                             confusion_matrix, make_scorer, matthews_corrcoef,\n",
    "                             precision_score, recall_score, roc_auc_score)\n",
    "from sklearn.model_selection import (GridSearchCV, LeaveOneOut,\n",
    "                                     RandomizedSearchCV, StratifiedKFold,\n",
    "                                     cross_validate)\n",
    "from sklearn.naive_bayes import GaussianNB\n",
    "from sklearn.neighbors import KNeighborsClassifier\n",
    "from sklearn.preprocessing import StandardScaler\n",
    "from sklearn.svm import SVC, LinearSVC\n",
    "from sklearn.tree import DecisionTreeClassifier"
   ]
  },
  {
   "cell_type": "markdown",
   "metadata": {},
   "source": [
    "# GV and Func"
   ]
  },
  {
   "cell_type": "code",
   "execution_count": 2,
   "metadata": {
    "code_folding": [
     0,
     6
    ]
   },
   "outputs": [],
   "source": [
    "def specificity(y_true, y_pred):\n",
    "    return (2 * accuracy_score(y_true, y_pred)) - recall_score(y_true, y_pred)\n",
    "    # tn, fp, fn, tp = confusion_matrix(y_true=y_true, y_pred=y_pred).ravel()\n",
    "    # return tn / (tn + fp)\n",
    "\n",
    "\n",
    "scoring = {\n",
    "    \"accuracy\": make_scorer(accuracy_score),\n",
    "    \"mcc\": make_scorer(matthews_corrcoef),\n",
    "    \"precision\": make_scorer(precision_score),\n",
    "    \"specificity\": make_scorer(specificity, greater_is_better=True),\n",
    "    \"sensitivity\": make_scorer(recall_score),\n",
    "    \"auroc\": make_scorer(roc_auc_score),\n",
    "    \"ap\": make_scorer(average_precision_score),\n",
    "}"
   ]
  },
  {
   "cell_type": "code",
   "execution_count": 3,
   "metadata": {
    "code_folding": []
   },
   "outputs": [],
   "source": [
    "clfs = {\n",
    "    'DT':\n",
    "    DecisionTreeClassifier(random_state=0),\n",
    "    'LR':\n",
    "    LogisticRegression(max_iter=10000, random_state=0),\n",
    "    'RFC':\n",
    "    RandomForestClassifier(random_state=0),\n",
    "    'SVC(kernel = rbf)':\n",
    "    SVC(kernel='rbf', random_state=0),\n",
    "    'SVC(kernel = rbf, tuned)':\n",
    "    SVC(kernel='rbf', C=5.44, gamma=.00237, random_state=0),\n",
    "    'SVC(kernel = linear)':\n",
    "    SVC(kernel='linear', random_state=0),\n",
    "    'SVC(kernel = poly)':\n",
    "    SVC(kernel='poly', random_state=0),\n",
    "    'SVC(kernel = sigmoid)':\n",
    "    SVC(kernel='sigmoid', random_state=0),\n",
    "    'EXT':\n",
    "    ExtraTreesClassifier(random_state=0),\n",
    "    'GNB':\n",
    "    GaussianNB(),\n",
    "    \"ADB\":\n",
    "    AdaBoostClassifier(random_state=0),\n",
    "    \"LDA\":\n",
    "    LinearDiscriminantAnalysis(),\n",
    "    \"DT\":\n",
    "    DecisionTreeClassifier(random_state=0),\n",
    "    \"KNN\":\n",
    "    KNeighborsClassifier(),\n",
    "    'BG':\n",
    "    BaggingClassifier(random_state=0),\n",
    "    'BGsvmrbf':\n",
    "    BaggingClassifier(base_estimator=SVC(kernel='rbf',\n",
    "                                         random_state=0,\n",
    "                                         probability=True),\n",
    "                      random_state=0)\n",
    "}"
   ]
  },
  {
   "cell_type": "code",
   "execution_count": 4,
   "metadata": {
    "code_folding": [
     0
    ]
   },
   "outputs": [],
   "source": [
    "skf = StratifiedKFold(\n",
    "    n_splits=10,\n",
    "    random_state=0,\n",
    "    shuffle=True)"
   ]
  },
  {
   "cell_type": "code",
   "execution_count": 5,
   "metadata": {
    "code_folding": [
     0
    ]
   },
   "outputs": [],
   "source": [
    "def CV(X, y, model, cv=10):\n",
    "    scores = cross_validate(model,\n",
    "                            X,\n",
    "                            y,\n",
    "                            cv=cv,\n",
    "                            scoring=scoring,\n",
    "                            return_train_score=True,\n",
    "                            return_estimator=True,\n",
    "#                             verbose=1\n",
    "                           )\n",
    "\n",
    "    return {\n",
    "        'ACC(%)': np.mean(scores[\"test_accuracy\"]) * 100,\n",
    "        'SN(%)': np.mean(scores[\"test_sensitivity\"]) * 100,\n",
    "        'SP(%)': np.mean(scores[\"test_specificity\"]) * 100,\n",
    "        'MCC': np.mean(scores[\"test_mcc\"]),\n",
    "    }"
   ]
  },
  {
   "cell_type": "code",
   "execution_count": 6,
   "metadata": {
    "code_folding": [
     0
    ]
   },
   "outputs": [],
   "source": [
    "def IND(X, y, test_X, test_y, model):\n",
    "    model.fit(X, y)\n",
    "    pred_y = model.predict(test_X)\n",
    "\n",
    "    return {\n",
    "        'ACC(%)': accuracy_score(test_y, pred_y) * 100,\n",
    "        'SE(%)': recall_score(test_y, pred_y) * 100,\n",
    "        'SP(%)': specificity(test_y, pred_y) * 100,\n",
    "        'MCC': matthews_corrcoef(test_y, pred_y),\n",
    "    }"
   ]
  },
  {
   "cell_type": "code",
   "execution_count": 7,
   "metadata": {
    "code_folding": []
   },
   "outputs": [],
   "source": [
    "def JK(X, y, model, verbose = False):\n",
    "    loo = LeaveOneOut()\n",
    "    original = []\n",
    "    pred = []\n",
    "    i = 0\n",
    "    for train_idx, test_idx in loo.split(X):\n",
    "        print(i, end = '\\t')\n",
    "        i += 1\n",
    "#         print(test_idx, end=',')\n",
    "        model.fit(X[train_idx], y[train_idx])\n",
    "        original.append(y[test_idx])\n",
    "        pred.append(model.predict(X[test_idx]))\n",
    "        \n",
    "    return {\n",
    "        'ACC(%)': accuracy_score(original, pred) * 100,\n",
    "        'SE(%)': recall_score(original, pred) * 100,\n",
    "        'SP(%)': specificity(original, pred) * 100,\n",
    "        'MCC': matthews_corrcoef(original, pred),\n",
    "    }"
   ]
  },
  {
   "cell_type": "markdown",
   "metadata": {},
   "source": [
    "# Load data"
   ]
  },
  {
   "cell_type": "code",
   "execution_count": 8,
   "metadata": {},
   "outputs": [],
   "source": [
    "file_name = '../Features/rf452.npz'"
   ]
  },
  {
   "cell_type": "code",
   "execution_count": 9,
   "metadata": {},
   "outputs": [
    {
     "name": "stdout",
     "output_type": "stream",
     "text": [
      "(1424, 452) (356, 452)\n"
     ]
    }
   ],
   "source": [
    "data = np.load(file_name)\n",
    "\n",
    "X = data['X']\n",
    "y = data['y']\n",
    "test_X = data['test_X']\n",
    "test_y = data['test_y']\n",
    "\n",
    "print(X.shape, test_X.shape)"
   ]
  },
  {
   "cell_type": "code",
   "execution_count": 10,
   "metadata": {},
   "outputs": [],
   "source": [
    "sc = StandardScaler()\n",
    "X = sc.fit_transform(X)\n",
    "test_X = sc.transform(test_X)"
   ]
  },
  {
   "cell_type": "code",
   "execution_count": 11,
   "metadata": {},
   "outputs": [
    {
     "data": {
      "text/plain": [
       "(13.04237827911235, 15.95060459925624, -7.071253875525869, -9.861130594899153)"
      ]
     },
     "execution_count": 11,
     "metadata": {},
     "output_type": "execute_result"
    }
   ],
   "source": [
    "np.max(test_X), np.max(X), np.min(test_X), np.min(X)"
   ]
  },
  {
   "cell_type": "markdown",
   "metadata": {},
   "source": [
    "# Test"
   ]
  },
  {
   "cell_type": "code",
   "execution_count": 12,
   "metadata": {},
   "outputs": [
    {
     "name": "stdout",
     "output_type": "stream",
     "text": [
      "DT\n",
      "LR\n",
      "RFC\n",
      "SVC(kernel = rbf)\n",
      "SVC(kernel = rbf, tuned)\n",
      "SVC(kernel = linear)\n",
      "SVC(kernel = poly)\n",
      "SVC(kernel = sigmoid)\n",
      "EXT\n",
      "GNB\n",
      "ADB\n",
      "LDA\n",
      "KNN\n",
      "BG\n",
      "BGsvmrbf\n"
     ]
    }
   ],
   "source": [
    "report_cv = []\n",
    "report_ind = []\n",
    "\n",
    "for name, clf in clfs.items():\n",
    "    print(name)\n",
    "    report_cv.append(CV(X, y, clf, cv= skf))\n",
    "    report_cv[-1]['Classifier'] = name\n",
    "    \n",
    "    report_ind.append(IND(X, y, test_X, test_y, clf))\n",
    "    report_ind[-1]['Classifier'] = name"
   ]
  },
  {
   "cell_type": "code",
   "execution_count": 13,
   "metadata": {},
   "outputs": [
    {
     "name": "stdout",
     "output_type": "stream",
     "text": [
      "0\t1\t2\t3\t4\t5\t6\t7\t8\t9\t10\t11\t12\t13\t14\t15\t16\t17\t18\t19\t20\t21\t22\t23\t24\t25\t26\t27\t28\t29\t30\t31\t32\t33\t34\t35\t36\t37\t38\t39\t40\t41\t42\t43\t44\t45\t46\t47\t48\t49\t50\t51\t52\t53\t54\t55\t56\t57\t58\t59\t60\t61\t62\t63\t64\t65\t66\t67\t68\t69\t70\t71\t72\t73\t74\t75\t76\t77\t78\t79\t80\t81\t82\t83\t84\t85\t86\t87\t88\t89\t90\t91\t92\t93\t94\t95\t96\t97\t98\t99\t100\t101\t102\t103\t104\t105\t106\t107\t108\t109\t110\t111\t112\t113\t114\t115\t116\t117\t118\t119\t120\t121\t122\t123\t124\t125\t126\t127\t128\t129\t130\t131\t132\t133\t134\t135\t136\t137\t138\t139\t140\t141\t142\t143\t144\t145\t146\t147\t148\t149\t150\t151\t152\t153\t154\t155\t156\t157\t158\t159\t160\t161\t162\t163\t164\t165\t166\t167\t168\t169\t170\t171\t172\t173\t174\t175\t176\t177\t178\t179\t180\t181\t182\t183\t184\t185\t186\t187\t188\t189\t190\t191\t192\t193\t194\t195\t196\t197\t198\t199\t200\t201\t202\t203\t204\t205\t206\t207\t208\t209\t210\t211\t212\t213\t214\t215\t216\t217\t218\t219\t220\t221\t222\t223\t224\t225\t226\t227\t228\t229\t230\t231\t232\t233\t234\t235\t236\t237\t238\t239\t240\t241\t242\t243\t244\t245\t246\t247\t248\t249\t250\t251\t252\t253\t254\t255\t256\t257\t258\t259\t260\t261\t262\t263\t264\t265\t266\t267\t268\t269\t270\t271\t272\t273\t274\t275\t276\t277\t278\t279\t280\t281\t282\t283\t284\t285\t286\t287\t288\t289\t290\t291\t292\t293\t294\t295\t296\t297\t298\t299\t300\t301\t302\t303\t304\t305\t306\t307\t308\t309\t310\t311\t312\t313\t314\t315\t316\t317\t318\t319\t320\t321\t322\t323\t324\t325\t326\t327\t328\t329\t330\t331\t332\t333\t334\t335\t336\t337\t338\t339\t340\t341\t342\t343\t344\t345\t346\t347\t348\t349\t350\t351\t352\t353\t354\t355\t356\t357\t358\t359\t360\t361\t362\t363\t364\t365\t366\t367\t368\t369\t370\t371\t372\t373\t374\t375\t376\t377\t378\t379\t380\t381\t382\t383\t384\t385\t386\t387\t388\t389\t390\t391\t392\t393\t394\t395\t396\t397\t398\t399\t400\t401\t402\t403\t404\t405\t406\t407\t408\t409\t410\t411\t412\t413\t414\t415\t416\t417\t418\t419\t420\t421\t422\t423\t424\t425\t426\t427\t428\t429\t430\t431\t432\t433\t434\t435\t436\t437\t438\t439\t440\t441\t442\t443\t444\t445\t446\t447\t448\t449\t450\t451\t452\t453\t454\t455\t456\t457\t458\t459\t460\t461\t462\t463\t464\t465\t466\t467\t468\t469\t470\t471\t472\t473\t474\t475\t476\t477\t478\t479\t480\t481\t482\t483\t484\t485\t486\t487\t488\t489\t490\t491\t492\t493\t494\t495\t496\t497\t498\t499\t500\t501\t502\t503\t504\t505\t506\t507\t508\t509\t510\t511\t512\t513\t514\t515\t516\t517\t518\t519\t520\t521\t522\t523\t524\t525\t526\t527\t528\t529\t530\t531\t532\t533\t534\t535\t536\t537\t538\t539\t540\t541\t542\t543\t544\t545\t546\t547\t548\t549\t550\t551\t552\t553\t554\t555\t556\t557\t558\t559\t560\t561\t562\t563\t564\t565\t566\t567\t568\t569\t570\t571\t572\t573\t574\t575\t576\t577\t578\t579\t580\t581\t582\t583\t584\t585\t586\t587\t588\t589\t590\t591\t592\t593\t594\t595\t596\t597\t598\t599\t600\t601\t602\t603\t604\t605\t606\t607\t608\t609\t610\t611\t612\t613\t614\t615\t616\t617\t618\t619\t620\t621\t622\t623\t624\t625\t626\t627\t628\t629\t630\t631\t632\t633\t634\t635\t636\t637\t638\t639\t640\t641\t642\t643\t644\t645\t646\t647\t648\t649\t650\t651\t652\t653\t654\t655\t656\t657\t658\t659\t660\t661\t662\t663\t664\t665\t666\t667\t668\t669\t670\t671\t672\t673\t674\t675\t676\t677\t678\t679\t680\t681\t682\t683\t684\t685\t686\t687\t688\t689\t690\t691\t692\t693\t694\t695\t696\t697\t698\t699\t700\t701\t702\t703\t704\t705\t706\t707\t708\t709\t710\t711\t712\t713\t714\t715\t716\t717\t718\t719\t720\t721\t722\t723\t724\t725\t726\t727\t728\t729\t730\t731\t732\t733\t734\t735\t736\t737\t738\t739\t740\t741\t742\t743\t744\t745\t746\t747\t748\t749\t750\t751\t752\t753\t754\t755\t756\t757\t758\t759\t760\t761\t762\t763\t764\t765\t766\t767\t768\t769\t770\t771\t772\t773\t774\t775\t776\t777\t778\t779\t780\t781\t782\t783\t784\t785\t786\t787\t788\t789\t790\t791\t792\t793\t794\t795\t796\t797\t798\t799\t800\t801\t802\t803\t804\t805\t806\t807\t808\t809\t810\t811\t812\t813\t814\t815\t816\t817\t818\t819\t820\t821\t822\t823\t824\t825\t826\t827\t828\t829\t830\t831\t832\t833\t834\t835\t836\t837\t838\t839\t840\t841\t842\t843\t844\t845\t846\t847\t848\t849\t850\t851\t852\t853\t854\t855\t856\t857\t858\t859\t860\t861\t862\t863\t864\t865\t866\t867\t868\t869\t870\t871\t872\t873\t874\t875\t876\t877\t878\t879\t880\t881\t882\t883\t884\t885\t886\t887\t888\t889\t890\t891\t892\t893\t894\t895\t896\t897\t898\t899\t900\t901\t902\t903\t904\t905\t906\t907\t908\t909\t910\t911\t912\t913\t914\t915\t916\t917\t918\t919\t920\t921\t922\t923\t924\t925\t926\t927\t928\t929\t930\t931\t932\t933\t934\t935\t936\t937\t938\t939\t940\t941\t942\t943\t944\t945\t946\t947\t948\t949\t950\t951\t952\t953\t954\t955\t956\t957\t958\t959\t960\t961\t962\t963\t964\t965\t966\t967\t968\t969\t970\t971\t972\t973\t974\t975\t976\t977\t978\t979\t980\t981\t982\t983\t984\t985\t986\t987\t988\t989\t990\t991\t992\t993\t994\t995\t996\t997\t998\t999\t1000\t1001\t1002\t1003\t1004\t1005\t1006\t1007\t1008\t1009\t1010\t1011\t1012\t1013\t1014\t1015\t1016\t1017\t1018\t1019\t1020\t1021\t1022\t1023\t1024\t1025\t1026\t1027\t1028\t1029\t1030\t1031\t1032\t1033\t1034\t1035\t1036\t1037\t1038\t1039\t1040\t1041\t1042\t1043\t1044\t1045\t1046\t1047\t1048\t1049\t1050\t1051\t1052\t1053\t1054\t1055\t1056\t1057\t1058\t1059\t1060\t1061\t1062\t1063\t1064\t1065\t1066\t1067\t1068\t1069\t1070\t1071\t1072\t1073\t1074\t1075\t1076\t1077\t1078\t1079\t1080\t1081\t1082\t1083\t1084\t1085\t1086\t1087\t1088\t1089\t1090\t1091\t1092\t1093\t1094\t1095\t1096\t1097\t1098\t1099\t1100\t1101\t1102\t1103\t1104\t1105\t1106\t1107\t1108\t1109\t1110\t1111\t1112\t1113\t1114\t1115\t1116\t1117\t1118\t1119\t1120\t1121\t1122\t1123\t1124\t1125\t1126\t1127\t1128\t1129\t1130\t1131\t1132\t1133\t1134\t1135\t1136\t1137\t1138\t1139\t1140\t1141\t1142\t1143\t1144\t1145\t1146\t1147\t1148\t1149\t1150\t1151\t1152\t1153\t1154\t1155\t1156\t1157\t1158\t1159\t1160\t1161\t1162\t1163\t1164\t1165\t1166\t1167\t1168\t1169\t1170\t1171\t1172\t1173\t1174\t1175\t1176\t1177\t1178\t1179\t1180\t1181\t1182\t1183\t1184\t1185\t1186\t1187\t1188\t1189\t1190\t1191\t1192\t1193\t1194\t1195\t1196\t1197\t1198\t1199\t1200\t1201\t1202\t1203\t1204\t1205\t1206\t1207\t1208\t1209\t1210\t1211\t1212\t1213\t1214\t1215\t1216\t1217\t1218\t1219\t1220\t1221\t1222\t1223\t1224\t1225\t1226\t1227\t1228\t1229\t1230\t1231\t1232\t1233\t1234\t1235\t1236\t1237\t1238\t1239\t1240\t1241\t1242\t1243\t1244\t1245\t1246\t1247\t1248\t1249\t1250\t1251\t1252\t1253\t1254\t1255\t1256\t1257\t1258\t1259\t1260\t1261\t1262\t1263\t1264\t1265\t1266\t1267\t1268\t1269\t1270\t1271\t1272\t1273\t1274\t1275\t1276\t1277\t1278\t1279\t1280\t1281\t1282\t1283\t1284\t1285\t1286\t1287\t1288\t1289\t1290\t1291\t1292\t1293\t1294\t1295\t1296\t1297\t1298\t1299\t1300\t1301\t1302\t1303\t1304\t1305\t1306\t1307\t1308\t1309\t1310\t1311\t1312\t1313\t1314\t1315\t1316\t1317\t1318\t1319\t1320\t1321\t1322\t1323\t1324\t1325\t1326\t1327\t1328\t1329\t1330\t1331\t1332\t1333\t1334\t1335\t1336\t1337\t1338\t1339\t1340\t1341\t1342\t1343\t1344\t1345\t1346\t1347\t1348\t1349\t1350\t1351\t1352\t1353\t1354\t1355\t1356\t1357\t1358\t1359\t1360\t1361\t1362\t1363\t1364\t1365\t1366\t1367\t1368\t1369\t1370\t1371\t1372\t1373\t1374\t1375\t1376\t1377\t1378\t1379\t1380\t1381\t1382\t1383\t1384\t1385\t1386\t1387\t1388\t1389\t1390\t1391\t1392\t1393\t1394\t1395\t1396\t1397\t1398\t1399\t1400\t1401\t1402\t1403\t1404\t1405\t1406\t1407\t1408\t1409\t1410\t1411\t1412\t1413\t1414\t1415\t1416\t1417\t1418\t1419\t1420\t1421\t1422\t1423\tSVC(C=5.44, break_ties=False, cache_size=200, class_weight=None, coef0=0.0,\n",
      "    decision_function_shape='ovr', degree=3, gamma=0.00237, kernel='rbf',\n",
      "    max_iter=-1, probability=False, random_state=0, shrinking=True, tol=0.001,\n",
      "    verbose=False)\n",
      "       ACC(%)      SN(%)      SP(%)       MCC                Classifier\n",
      "0   84.266719  85.532081  83.001357  0.687357                        DT\n",
      "1   88.345317  89.747653  86.942981  0.768163                        LR\n",
      "2   90.030040  88.763693  91.296387  0.802483                       RFC\n",
      "3   91.012509  90.451878  91.573139  0.821327         SVC(kernel = rbf)\n",
      "4   91.996947  91.715571  92.278322  0.841235  SVC(kernel = rbf, tuned)\n",
      "5   86.027283  87.640845  84.413720  0.722436      SVC(kernel = linear)\n",
      "6   89.466660  93.683490  85.249830  0.793549        SVC(kernel = poly)\n",
      "7   88.835812  89.606808  88.064817  0.778225     SVC(kernel = sigmoid)\n",
      "8   90.800749  90.311033  91.290464  0.816767                       EXT\n",
      "9   88.764405  89.745696  87.783113  0.777093                       GNB\n",
      "10  87.220033  88.616980  85.823087  0.746259                       ADB\n",
      "11  87.359894  89.327074  85.392714  0.748461                       LDA\n",
      "12  89.396238  91.009390  87.783085  0.789512                       KNN\n",
      "13  89.253915  86.932707  91.575123  0.787311                        BG\n",
      "14  91.081454  90.729656  91.433252  0.822641                  BGsvmrbf\n",
      "       ACC(%)      SE(%)      SP(%)       MCC                Classifier\n",
      "0   80.337079  84.269663  76.404494  0.608627                        DT\n",
      "1   85.955056  86.516854  85.393258  0.719147                        LR\n",
      "2   88.483146  87.640449  89.325843  0.769772                       RFC\n",
      "3   90.449438  87.640449  93.258427  0.810268         SVC(kernel = rbf)\n",
      "4   92.134831  89.325843  94.943820  0.844030  SVC(kernel = rbf, tuned)\n",
      "5   83.707865  88.202247  79.213483  0.676897      SVC(kernel = linear)\n",
      "6   88.483146  92.696629  84.269663  0.772410        SVC(kernel = poly)\n",
      "7   87.640449  87.078652  88.202247  0.752857     SVC(kernel = sigmoid)\n",
      "8   88.764045  88.764045  88.764045  0.775281                       EXT\n",
      "9   86.235955  86.516854  85.955056  0.724731                       GNB\n",
      "10  86.235955  86.516854  85.955056  0.724731                       ADB\n",
      "11  87.359551  83.707865  91.011236  0.749192                       LDA\n",
      "12  87.921348  89.325843  86.516854  0.758726                       KNN\n",
      "13  87.359551  85.955056  88.764045  0.747486                        BG\n",
      "14  90.168539  87.640449  92.696629  0.804400                  BGsvmrbf\n",
      "      ACC(%)      SE(%)      SP(%)       MCC                Classifier\n",
      "0  91.502809  90.870787  92.134831  0.830123  SVC(kernel = rbf, tuned)\n"
     ]
    }
   ],
   "source": [
    "report_jk = []\n",
    "name = 'SVC(kernel = rbf, tuned)'\n",
    "report_jk.append(JK(X, y, clfs[name]))\n",
    "report_jk[-1]['Classifier'] = name\n",
    "\n",
    "print(clfs[name])\n",
    "\n",
    "report_cv = pd.DataFrame(report_cv)\n",
    "report_ind = pd.DataFrame(report_ind)\n",
    "report_jk = pd.DataFrame(report_jk)\n",
    "\n",
    "print(report_cv)\n",
    "\n",
    "print(report_ind)\n",
    "\n",
    "print(report_jk)"
   ]
  },
  {
   "cell_type": "code",
   "execution_count": 14,
   "metadata": {},
   "outputs": [],
   "source": [
    "# ranked_features.to_csv('Feature_ranking_' + file_name.split('.')[0] + '.csv', index = False)\n",
    "report_cv.to_csv('Report_CV_' + file_name.split('.')[0] + '.csv', index = False)\n",
    "report_ind.to_csv('Report_IND_' + file_name.split('.')[0] + '.csv', index=False)\n",
    "report_jk.to_csv('Report_JK_' + file_name.split('.')[0] + '.csv', index=False)"
   ]
  },
  {
   "cell_type": "markdown",
   "metadata": {},
   "source": [
    "# Tuning"
   ]
  },
  {
   "cell_type": "code",
   "execution_count": 15,
   "metadata": {
    "cell_style": "center"
   },
   "outputs": [],
   "source": [
    "# parma_dist = dict(\n",
    "#     C = np.logspace(-2, 4, 10),\n",
    "#     gamma = np.logspace(-9, 3, 10)\n",
    "# )\n",
    "\n",
    "# rnd = RandomizedSearchCV(clf,\n",
    "#                          param_distributions=parma_dist,\n",
    "#                          scoring='accuracy',\n",
    "#                          cv=skf,\n",
    "#                          random_state=0,\n",
    "#                          n_jobs=4,\n",
    "#                          verbose=1)\n",
    "\n",
    "# rnd.fit(X, y)"
   ]
  },
  {
   "cell_type": "code",
   "execution_count": 16,
   "metadata": {},
   "outputs": [
    {
     "name": "stdout",
     "output_type": "stream",
     "text": [
      "Fitting 10 folds for each of 100 candidates, totalling 1000 fits\n"
     ]
    },
    {
     "name": "stderr",
     "output_type": "stream",
     "text": [
      "[Parallel(n_jobs=-1)]: Using backend LokyBackend with 4 concurrent workers.\n",
      "[Parallel(n_jobs=-1)]: Done  42 tasks      | elapsed:   26.0s\n",
      "[Parallel(n_jobs=-1)]: Done 192 tasks      | elapsed:  1.7min\n",
      "[Parallel(n_jobs=-1)]: Done 442 tasks      | elapsed:  3.6min\n",
      "[Parallel(n_jobs=-1)]: Done 792 tasks      | elapsed:  6.1min\n",
      "[Parallel(n_jobs=-1)]: Done 1000 out of 1000 | elapsed:  7.4min finished\n"
     ]
    },
    {
     "name": "stdout",
     "output_type": "stream",
     "text": [
      "{'C': 4.6415888336127775, 'gamma': 0.004641588833612773} 0.9136462129419876 {'ACC(%)': 91.29213483146067, 'SE(%)': 88.20224719101124, 'SP(%)': 94.3820224719101, 'MCC': 0.827424158774056}\n",
      "{'C': array([1.00000000e-02, 4.64158883e-02, 2.15443469e-01, 1.00000000e+00,\n",
      "       4.64158883e+00, 2.15443469e+01, 1.00000000e+02, 4.64158883e+02,\n",
      "       2.15443469e+03, 1.00000000e+04]), 'gamma': array([1.00000000e-09, 2.15443469e-08, 4.64158883e-07, 1.00000000e-05,\n",
      "       2.15443469e-04, 4.64158883e-03, 1.00000000e-01, 2.15443469e+00,\n",
      "       4.64158883e+01, 1.00000000e+03])}\n"
     ]
    }
   ],
   "source": [
    "parma_dist = dict(\n",
    "    C = np.logspace(-2, 4, 10),\n",
    "    gamma = np.logspace(-9, 3, 10)\n",
    ")\n",
    "\n",
    "grid = GridSearchCV(clfs['SVC(kernel = rbf)'],\n",
    "                    param_grid=parma_dist,\n",
    "                    cv=skf,\n",
    "                    n_jobs=-1,\n",
    "                    verbose=1,\n",
    "                    scoring='accuracy')\n",
    "\n",
    "grid.fit(X, y)\n",
    "\n",
    "print(grid.best_params_, grid.best_score_, IND(X, y, test_X, test_y, grid.best_estimator_))\n",
    "print(grid.param_grid)"
   ]
  },
  {
   "cell_type": "code",
   "execution_count": 17,
   "metadata": {},
   "outputs": [
    {
     "name": "stdout",
     "output_type": "stream",
     "text": [
      "Fitting 10 folds for each of 100 candidates, totalling 1000 fits\n"
     ]
    },
    {
     "name": "stderr",
     "output_type": "stream",
     "text": [
      "[Parallel(n_jobs=-1)]: Using backend LokyBackend with 4 concurrent workers.\n",
      "[Parallel(n_jobs=-1)]: Done  42 tasks      | elapsed:    9.4s\n",
      "[Parallel(n_jobs=-1)]: Done 192 tasks      | elapsed:  1.2min\n",
      "[Parallel(n_jobs=-1)]: Done 442 tasks      | elapsed:  2.7min\n",
      "[Parallel(n_jobs=-1)]: Done 792 tasks      | elapsed:  5.0min\n",
      "[Parallel(n_jobs=-1)]: Done 1000 out of 1000 | elapsed:  6.4min finished\n"
     ]
    },
    {
     "name": "stdout",
     "output_type": "stream",
     "text": [
      "{'C': 5.444444444444445, 'gamma': 0.0023777777777777777} 0.9199694671525656 {'ACC(%)': 92.13483146067416, 'SE(%)': 89.32584269662921, 'SP(%)': 94.9438202247191, 'MCC': 0.8440296311368944}\n",
      "{'C': array([ 1.        ,  3.22222222,  5.44444444,  7.66666667,  9.88888889,\n",
      "       12.11111111, 14.33333333, 16.55555556, 18.77777778, 21.        ]), 'gamma': array([0.0002    , 0.00128889, 0.00237778, 0.00346667, 0.00455556,\n",
      "       0.00564444, 0.00673333, 0.00782222, 0.00891111, 0.01      ])}\n"
     ]
    }
   ],
   "source": [
    "parma_dist = dict(\n",
    "    C = np.linspace(1, 21, 10),\n",
    "    gamma = np.linspace(0.0002, 0.01, 10)\n",
    ")\n",
    "\n",
    "grid = GridSearchCV(clfs['SVC(kernel = rbf)'],\n",
    "                    param_grid=parma_dist,\n",
    "                    cv=skf,\n",
    "                    n_jobs=-1,\n",
    "                    verbose=1,\n",
    "                    scoring='accuracy')\n",
    "\n",
    "grid.fit(X, y)\n",
    "\n",
    "print(grid.best_params_, grid.best_score_, IND(X, y, test_X, test_y, grid.best_estimator_))\n",
    "print(grid.param_grid)"
   ]
  },
  {
   "cell_type": "markdown",
   "metadata": {},
   "source": [
    "# Ensemble"
   ]
  },
  {
   "cell_type": "code",
   "execution_count": 18,
   "metadata": {},
   "outputs": [],
   "source": [
    "def JKSL(X, y, verbose=False):\n",
    "    original = []\n",
    "    pred = []\n",
    "\n",
    "    loo = LeaveOneOut()\n",
    "    model = get_super_learner(X, folds=10)\n",
    "\n",
    "    dummy = np.zeros((len(X[0]), 9)).T\n",
    "\n",
    "    i = 0\n",
    "    for train_idx, test_idx in loo.split(X):\n",
    "        print(i, end='\\t')\n",
    "        i += 1\n",
    "        model.fit(X[train_idx], y[train_idx])\n",
    "\n",
    "        original.append(y[test_idx])\n",
    "\n",
    "        test_data = np.vstack([dummy, X[test_idx]])\n",
    "        #         print(test_data.shape)\n",
    "        pred.append(model.predict(test_data)[-1])\n",
    "\n",
    "    return {\n",
    "        'ACC(%)': accuracy_score(original, pred) * 100,\n",
    "        'SE(%)': recall_score(original, pred) * 100,\n",
    "        'SP(%)': specificity(original, pred) * 100,\n",
    "        'MCC': matthews_corrcoef(original, pred),\n",
    "    }\n"
   ]
  },
  {
   "cell_type": "code",
   "execution_count": 20,
   "metadata": {
    "code_folding": []
   },
   "outputs": [
    {
     "name": "stdout",
     "output_type": "stream",
     "text": [
      "Predicted Accuracy: 0.926966\n",
      "Predicted Sensitivity: 0.898876\n",
      "Predicted Specificity: 0.955056\n",
      "Predicted MCC: 0.855283\n"
     ]
    }
   ],
   "source": [
    "# make a prediction with a stacking ensemble\n",
    "# define the base models\n",
    "level0 = list()\n",
    "\n",
    "level0.append((\n",
    "    'VC',\n",
    "    VotingClassifier(\n",
    "        [\n",
    "            ('DT', DecisionTreeClassifier(random_state=0)),\n",
    "            ('ABC', AdaBoostClassifier(random_state=0)),\n",
    "            ('LDA', LinearDiscriminantAnalysis()),\n",
    "            #             ('SVCL', SVC(kernel='poly', random_state=0, probability=True))\n",
    "        ],\n",
    "        voting='soft',\n",
    "        n_jobs=-1,\n",
    "        # weights=[1, 1, 1.5]\n",
    "    )))\n",
    "# level0.append(('ext', ext(random_state=0)))\n",
    "level0.append(('svm(rbf, tuned)',\n",
    "               SVC(kernel='rbf',\n",
    "                   C=5.44,\n",
    "                   gamma=.00237,\n",
    "                   random_state=0,\n",
    "                   probability=True)))\n",
    "# level0.append(('svc(poly)', SVC(kernel='poly',\n",
    "#                                 random_state=0,\n",
    "#                                 probability=True)))\n",
    "\n",
    "# define meta learner model\n",
    "level1 = LogisticRegression(solver='liblinear' ,random_state=0)\n",
    "# level1 = SVC(kernel='linear', random_state=0)\n",
    "# level1 = LinearDiscriminantAnalysis()\n",
    "# define the stacking ensemble\n",
    "model = StackingClassifier(estimators=level0,\n",
    "                           final_estimator=level1,\n",
    "                           stack_method='predict_proba',\n",
    "                           cv=skf)\n",
    "# fit the model on all available data\n",
    "model.fit(X, y)\n",
    "# make a prediction for one example\n",
    "yhat = model.predict(test_X)\n",
    "print('Predicted Accuracy: %f' % accuracy_score(test_y, yhat))\n",
    "print('Predicted Sensitivity: %f' % recall_score(test_y, yhat))\n",
    "print('Predicted Specificity: %f' % specificity(test_y, yhat))\n",
    "print('Predicted MCC: %f' % matthews_corrcoef(test_y, yhat))"
   ]
  },
  {
   "cell_type": "code",
   "execution_count": 21,
   "metadata": {},
   "outputs": [
    {
     "name": "stdout",
     "output_type": "stream",
     "text": [
      "10-Fold CV\n",
      "{'ACC(%)': 92.06786171574905, 'SN(%)': 92.4197965571205, 'SP(%)': 91.71592687437759, 'MCC': 0.8427047226262575}\n",
      "StackingClassifier(cv=StratifiedKFold(n_splits=10, random_state=0, shuffle=True),\n",
      "                   estimators=[('VC',\n",
      "                                VotingClassifier(estimators=[('DT',\n",
      "                                                              DecisionTreeClassifier(ccp_alpha=0.0,\n",
      "                                                                                     class_weight=None,\n",
      "                                                                                     criterion='gini',\n",
      "                                                                                     max_depth=None,\n",
      "                                                                                     max_features=None,\n",
      "                                                                                     max_leaf_nodes=None,\n",
      "                                                                                     min_impurity_decrease=0.0,\n",
      "                                                                                     min_impurity_split=None,\n",
      "                                                                                     min_samples_leaf=1,\n",
      "                                                                                     min_samples_split=2,\n",
      "                                                                                     min_...\n",
      "                                    shrinking=True, tol=0.001,\n",
      "                                    verbose=False))],\n",
      "                   final_estimator=LogisticRegression(C=1.0, class_weight=None,\n",
      "                                                      dual=False,\n",
      "                                                      fit_intercept=True,\n",
      "                                                      intercept_scaling=1,\n",
      "                                                      l1_ratio=None,\n",
      "                                                      max_iter=100,\n",
      "                                                      multi_class='auto',\n",
      "                                                      n_jobs=None, penalty='l2',\n",
      "                                                      random_state=0,\n",
      "                                                      solver='liblinear',\n",
      "                                                      tol=0.0001, verbose=0,\n",
      "                                                      warm_start=False),\n",
      "                   n_jobs=None, passthrough=False, stack_method='predict_proba',\n",
      "                   verbose=0)\n",
      "JK\n"
     ]
    }
   ],
   "source": [
    "print('10-Fold CV')\n",
    "print(CV(X, y, model, StratifiedKFold(n_splits=10, shuffle=True, random_state=0)))\n",
    "\n",
    "print(model)\n",
    "\n",
    "print('JK')\n",
    "print(JKSL(X, y, model))"
   ]
  },
  {
   "cell_type": "markdown",
   "metadata": {
    "code_folding": []
   },
   "source": [
    "# Others"
   ]
  },
  {
   "cell_type": "code",
   "execution_count": 22,
   "metadata": {},
   "outputs": [
    {
     "name": "stdout",
     "output_type": "stream",
     "text": [
      "0.901685393258427\n"
     ]
    }
   ],
   "source": [
    "vt = VotingClassifier(estimators=[\n",
    "    ('gnb', GaussianNB()),\n",
    "    ('adb', AdaBoostClassifier(random_state=0)),\n",
    "    ('svmrbf', SVC(C=5.44, gamma=0.00273, probability=True, random_state=0)),\n",
    "    ('ext', ExtraTreesClassifier(random_state=0))\n",
    "],\n",
    "                      voting='hard',\n",
    "                      weights=[0.3, 0.3, 0.7, 0.3])\n",
    "\n",
    "vt.fit(X, y)\n",
    "\n",
    "p = vt.predict(test_X)\n",
    "\n",
    "print(accuracy_score(test_y, p))"
   ]
  },
  {
   "cell_type": "code",
   "execution_count": null,
   "metadata": {},
   "outputs": [],
   "source": [
    "loss, bias, var = bias_variance_decomp(model, X, y, test_X, test_y, loss='0-1_loss', random_seed=0)\n",
    "print('0-1 loss: ', loss)\n",
    "print('Bias : ', bias)\n",
    "print('Variance : ', var)"
   ]
  },
  {
   "cell_type": "code",
   "execution_count": 26,
   "metadata": {},
   "outputs": [
    {
     "name": "stdout",
     "output_type": "stream",
     "text": [
      "Mean Square Error:  0.08980337078651686\n",
      "Bias :  0.07276573033707866\n",
      "Variance :  0.017037640449438205\n"
     ]
    }
   ],
   "source": [
    "model = clfs['SVC(kernel = rbf, tuned)']\n",
    "mse, bias, var = bias_variance_decomp(model,\n",
    "                                         X,\n",
    "                                         y,\n",
    "                                         test_X,\n",
    "                                         test_y,\n",
    "                                         loss='mse',\n",
    "                                         random_seed=0)\n",
    "print('Mean Square Error: ', mse)\n",
    "print('Bias : ', bias)\n",
    "print('Variance : ', var)"
   ]
  },
  {
   "cell_type": "code",
   "execution_count": null,
   "metadata": {},
   "outputs": [],
   "source": []
  }
 ],
 "metadata": {
  "kernelspec": {
   "display_name": "Python 3",
   "language": "python",
   "name": "python3"
  },
  "language_info": {
   "codemirror_mode": {
    "name": "ipython",
    "version": 3
   },
   "file_extension": ".py",
   "mimetype": "text/x-python",
   "name": "python",
   "nbconvert_exporter": "python",
   "pygments_lexer": "ipython3",
   "version": "3.7.6"
  },
  "toc": {
   "base_numbering": 1,
   "nav_menu": {},
   "number_sections": true,
   "sideBar": true,
   "skip_h1_title": false,
   "title_cell": "Table of Contents",
   "title_sidebar": "Contents",
   "toc_cell": false,
   "toc_position": {},
   "toc_section_display": true,
   "toc_window_display": false
  },
  "varInspector": {
   "cols": {
    "lenName": 16,
    "lenType": 16,
    "lenVar": 40
   },
   "kernels_config": {
    "python": {
     "delete_cmd_postfix": "",
     "delete_cmd_prefix": "del ",
     "library": "var_list.py",
     "varRefreshCmd": "print(var_dic_list())"
    },
    "r": {
     "delete_cmd_postfix": ") ",
     "delete_cmd_prefix": "rm(",
     "library": "var_list.r",
     "varRefreshCmd": "cat(var_dic_list()) "
    }
   },
   "types_to_exclude": [
    "module",
    "function",
    "builtin_function_or_method",
    "instance",
    "_Feature"
   ],
   "window_display": false
  }
 },
 "nbformat": 4,
 "nbformat_minor": 4
}
